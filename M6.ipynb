{
 "cells": [
  {
   "cell_type": "markdown",
   "id": "be0fe8c8",
   "metadata": {},
   "source": [
    "# Module - 6"
   ]
  },
  {
   "cell_type": "markdown",
   "id": "04edd375",
   "metadata": {},
   "source": [
    "Voting Classifier"
   ]
  },
  {
   "cell_type": "code",
   "execution_count": 1,
   "id": "beb514e6",
   "metadata": {},
   "outputs": [],
   "source": [
    "#import library packages\n",
    "import pandas as p"
   ]
  },
  {
   "cell_type": "code",
   "execution_count": 2,
   "id": "dac3024d",
   "metadata": {},
   "outputs": [],
   "source": [
    "import warnings\n",
    "warnings.filterwarnings('ignore')"
   ]
  },
  {
   "cell_type": "code",
   "execution_count": 3,
   "id": "9e50451e",
   "metadata": {},
   "outputs": [],
   "source": [
    "#Load given dataset\n",
    "data = p.read_csv(\"WSN_Dataset.csv\")"
   ]
  },
  {
   "cell_type": "code",
   "execution_count": 4,
   "id": "b0aab072",
   "metadata": {},
   "outputs": [],
   "source": [
    "df = data.drop_duplicates()"
   ]
  },
  {
   "cell_type": "code",
   "execution_count": 5,
   "id": "e46433b7",
   "metadata": {},
   "outputs": [
    {
     "data": {
      "text/html": [
       "<div>\n",
       "<style scoped>\n",
       "    .dataframe tbody tr th:only-of-type {\n",
       "        vertical-align: middle;\n",
       "    }\n",
       "\n",
       "    .dataframe tbody tr th {\n",
       "        vertical-align: top;\n",
       "    }\n",
       "\n",
       "    .dataframe thead th {\n",
       "        text-align: right;\n",
       "    }\n",
       "</style>\n",
       "<table border=\"1\" class=\"dataframe\">\n",
       "  <thead>\n",
       "    <tr style=\"text-align: right;\">\n",
       "      <th></th>\n",
       "      <th>id</th>\n",
       "      <th>Time</th>\n",
       "      <th>Is_CH</th>\n",
       "      <th>who_CH</th>\n",
       "      <th>Dist_To_CH</th>\n",
       "      <th>ADV_S</th>\n",
       "      <th>ADV_R</th>\n",
       "      <th>JOIN_S</th>\n",
       "      <th>JOIN_R</th>\n",
       "      <th>SCH_S</th>\n",
       "      <th>SCH_R</th>\n",
       "      <th>Rank</th>\n",
       "      <th>DATA_S</th>\n",
       "      <th>DATA_R</th>\n",
       "      <th>Data_Sent_To_BS</th>\n",
       "      <th>dist_CH_To_BS</th>\n",
       "      <th>send_code</th>\n",
       "      <th>Expaned_Energy</th>\n",
       "      <th>Attack_type</th>\n",
       "    </tr>\n",
       "  </thead>\n",
       "  <tbody>\n",
       "    <tr>\n",
       "      <th>0</th>\n",
       "      <td>0</td>\n",
       "      <td>50</td>\n",
       "      <td>1</td>\n",
       "      <td>101000</td>\n",
       "      <td>0.00000</td>\n",
       "      <td>1</td>\n",
       "      <td>0</td>\n",
       "      <td>0</td>\n",
       "      <td>25</td>\n",
       "      <td>1</td>\n",
       "      <td>0</td>\n",
       "      <td>0</td>\n",
       "      <td>0</td>\n",
       "      <td>1200</td>\n",
       "      <td>48</td>\n",
       "      <td>130.08535</td>\n",
       "      <td>0</td>\n",
       "      <td>2.46940</td>\n",
       "      <td>Normal</td>\n",
       "    </tr>\n",
       "    <tr>\n",
       "      <th>1</th>\n",
       "      <td>1</td>\n",
       "      <td>50</td>\n",
       "      <td>0</td>\n",
       "      <td>101044</td>\n",
       "      <td>75.32345</td>\n",
       "      <td>0</td>\n",
       "      <td>4</td>\n",
       "      <td>1</td>\n",
       "      <td>0</td>\n",
       "      <td>0</td>\n",
       "      <td>1</td>\n",
       "      <td>2</td>\n",
       "      <td>38</td>\n",
       "      <td>0</td>\n",
       "      <td>0</td>\n",
       "      <td>0.00000</td>\n",
       "      <td>4</td>\n",
       "      <td>0.06957</td>\n",
       "      <td>Normal</td>\n",
       "    </tr>\n",
       "    <tr>\n",
       "      <th>2</th>\n",
       "      <td>2</td>\n",
       "      <td>50</td>\n",
       "      <td>0</td>\n",
       "      <td>101010</td>\n",
       "      <td>46.95453</td>\n",
       "      <td>0</td>\n",
       "      <td>4</td>\n",
       "      <td>1</td>\n",
       "      <td>0</td>\n",
       "      <td>0</td>\n",
       "      <td>1</td>\n",
       "      <td>19</td>\n",
       "      <td>41</td>\n",
       "      <td>0</td>\n",
       "      <td>0</td>\n",
       "      <td>0.00000</td>\n",
       "      <td>3</td>\n",
       "      <td>0.06898</td>\n",
       "      <td>Normal</td>\n",
       "    </tr>\n",
       "    <tr>\n",
       "      <th>3</th>\n",
       "      <td>3</td>\n",
       "      <td>50</td>\n",
       "      <td>0</td>\n",
       "      <td>101044</td>\n",
       "      <td>64.85231</td>\n",
       "      <td>0</td>\n",
       "      <td>4</td>\n",
       "      <td>1</td>\n",
       "      <td>0</td>\n",
       "      <td>0</td>\n",
       "      <td>1</td>\n",
       "      <td>16</td>\n",
       "      <td>38</td>\n",
       "      <td>0</td>\n",
       "      <td>0</td>\n",
       "      <td>0.00000</td>\n",
       "      <td>4</td>\n",
       "      <td>0.06673</td>\n",
       "      <td>Normal</td>\n",
       "    </tr>\n",
       "    <tr>\n",
       "      <th>4</th>\n",
       "      <td>4</td>\n",
       "      <td>50</td>\n",
       "      <td>0</td>\n",
       "      <td>101010</td>\n",
       "      <td>4.83341</td>\n",
       "      <td>0</td>\n",
       "      <td>4</td>\n",
       "      <td>1</td>\n",
       "      <td>0</td>\n",
       "      <td>0</td>\n",
       "      <td>1</td>\n",
       "      <td>25</td>\n",
       "      <td>41</td>\n",
       "      <td>0</td>\n",
       "      <td>0</td>\n",
       "      <td>0.00000</td>\n",
       "      <td>3</td>\n",
       "      <td>0.06534</td>\n",
       "      <td>Normal</td>\n",
       "    </tr>\n",
       "    <tr>\n",
       "      <th>...</th>\n",
       "      <td>...</td>\n",
       "      <td>...</td>\n",
       "      <td>...</td>\n",
       "      <td>...</td>\n",
       "      <td>...</td>\n",
       "      <td>...</td>\n",
       "      <td>...</td>\n",
       "      <td>...</td>\n",
       "      <td>...</td>\n",
       "      <td>...</td>\n",
       "      <td>...</td>\n",
       "      <td>...</td>\n",
       "      <td>...</td>\n",
       "      <td>...</td>\n",
       "      <td>...</td>\n",
       "      <td>...</td>\n",
       "      <td>...</td>\n",
       "      <td>...</td>\n",
       "      <td>...</td>\n",
       "    </tr>\n",
       "    <tr>\n",
       "      <th>50381</th>\n",
       "      <td>373986</td>\n",
       "      <td>703</td>\n",
       "      <td>1</td>\n",
       "      <td>114021</td>\n",
       "      <td>0.00000</td>\n",
       "      <td>1</td>\n",
       "      <td>6</td>\n",
       "      <td>0</td>\n",
       "      <td>26</td>\n",
       "      <td>1</td>\n",
       "      <td>0</td>\n",
       "      <td>0</td>\n",
       "      <td>0</td>\n",
       "      <td>1196</td>\n",
       "      <td>0</td>\n",
       "      <td>0.00000</td>\n",
       "      <td>0</td>\n",
       "      <td>0.00720</td>\n",
       "      <td>Blackhole</td>\n",
       "    </tr>\n",
       "    <tr>\n",
       "      <th>50382</th>\n",
       "      <td>374130</td>\n",
       "      <td>753</td>\n",
       "      <td>1</td>\n",
       "      <td>115065</td>\n",
       "      <td>0.00000</td>\n",
       "      <td>1</td>\n",
       "      <td>4</td>\n",
       "      <td>0</td>\n",
       "      <td>55</td>\n",
       "      <td>1</td>\n",
       "      <td>0</td>\n",
       "      <td>0</td>\n",
       "      <td>0</td>\n",
       "      <td>1320</td>\n",
       "      <td>0</td>\n",
       "      <td>0.00000</td>\n",
       "      <td>0</td>\n",
       "      <td>0.00722</td>\n",
       "      <td>Blackhole</td>\n",
       "    </tr>\n",
       "    <tr>\n",
       "      <th>50383</th>\n",
       "      <td>374270</td>\n",
       "      <td>853</td>\n",
       "      <td>1</td>\n",
       "      <td>117005</td>\n",
       "      <td>0.00000</td>\n",
       "      <td>1</td>\n",
       "      <td>10</td>\n",
       "      <td>0</td>\n",
       "      <td>14</td>\n",
       "      <td>1</td>\n",
       "      <td>0</td>\n",
       "      <td>0</td>\n",
       "      <td>0</td>\n",
       "      <td>745</td>\n",
       "      <td>0</td>\n",
       "      <td>0.00000</td>\n",
       "      <td>0</td>\n",
       "      <td>0.00721</td>\n",
       "      <td>Blackhole</td>\n",
       "    </tr>\n",
       "    <tr>\n",
       "      <th>50384</th>\n",
       "      <td>374342</td>\n",
       "      <td>853</td>\n",
       "      <td>1</td>\n",
       "      <td>117078</td>\n",
       "      <td>0.00000</td>\n",
       "      <td>1</td>\n",
       "      <td>10</td>\n",
       "      <td>0</td>\n",
       "      <td>11</td>\n",
       "      <td>1</td>\n",
       "      <td>0</td>\n",
       "      <td>0</td>\n",
       "      <td>0</td>\n",
       "      <td>921</td>\n",
       "      <td>0</td>\n",
       "      <td>0.00000</td>\n",
       "      <td>0</td>\n",
       "      <td>0.00726</td>\n",
       "      <td>Blackhole</td>\n",
       "    </tr>\n",
       "    <tr>\n",
       "      <th>50385</th>\n",
       "      <td>374523</td>\n",
       "      <td>953</td>\n",
       "      <td>1</td>\n",
       "      <td>119061</td>\n",
       "      <td>0.00000</td>\n",
       "      <td>1</td>\n",
       "      <td>6</td>\n",
       "      <td>0</td>\n",
       "      <td>31</td>\n",
       "      <td>1</td>\n",
       "      <td>0</td>\n",
       "      <td>0</td>\n",
       "      <td>0</td>\n",
       "      <td>1240</td>\n",
       "      <td>0</td>\n",
       "      <td>0.00000</td>\n",
       "      <td>0</td>\n",
       "      <td>0.00722</td>\n",
       "      <td>Blackhole</td>\n",
       "    </tr>\n",
       "  </tbody>\n",
       "</table>\n",
       "<p>50386 rows × 19 columns</p>\n",
       "</div>"
      ],
      "text/plain": [
       "           id  Time  Is_CH  who_CH  Dist_To_CH  ADV_S  ADV_R  JOIN_S  JOIN_R  \\\n",
       "0           0    50      1  101000     0.00000      1      0       0      25   \n",
       "1           1    50      0  101044    75.32345      0      4       1       0   \n",
       "2           2    50      0  101010    46.95453      0      4       1       0   \n",
       "3           3    50      0  101044    64.85231      0      4       1       0   \n",
       "4           4    50      0  101010     4.83341      0      4       1       0   \n",
       "...       ...   ...    ...     ...         ...    ...    ...     ...     ...   \n",
       "50381  373986   703      1  114021     0.00000      1      6       0      26   \n",
       "50382  374130   753      1  115065     0.00000      1      4       0      55   \n",
       "50383  374270   853      1  117005     0.00000      1     10       0      14   \n",
       "50384  374342   853      1  117078     0.00000      1     10       0      11   \n",
       "50385  374523   953      1  119061     0.00000      1      6       0      31   \n",
       "\n",
       "       SCH_S  SCH_R  Rank  DATA_S  DATA_R  Data_Sent_To_BS  dist_CH_To_BS  \\\n",
       "0          1      0     0       0    1200               48      130.08535   \n",
       "1          0      1     2      38       0                0        0.00000   \n",
       "2          0      1    19      41       0                0        0.00000   \n",
       "3          0      1    16      38       0                0        0.00000   \n",
       "4          0      1    25      41       0                0        0.00000   \n",
       "...      ...    ...   ...     ...     ...              ...            ...   \n",
       "50381      1      0     0       0    1196                0        0.00000   \n",
       "50382      1      0     0       0    1320                0        0.00000   \n",
       "50383      1      0     0       0     745                0        0.00000   \n",
       "50384      1      0     0       0     921                0        0.00000   \n",
       "50385      1      0     0       0    1240                0        0.00000   \n",
       "\n",
       "       send_code  Expaned_Energy Attack_type  \n",
       "0              0         2.46940      Normal  \n",
       "1              4         0.06957      Normal  \n",
       "2              3         0.06898      Normal  \n",
       "3              4         0.06673      Normal  \n",
       "4              3         0.06534      Normal  \n",
       "...          ...             ...         ...  \n",
       "50381          0         0.00720   Blackhole  \n",
       "50382          0         0.00722   Blackhole  \n",
       "50383          0         0.00721   Blackhole  \n",
       "50384          0         0.00726   Blackhole  \n",
       "50385          0         0.00722   Blackhole  \n",
       "\n",
       "[50386 rows x 19 columns]"
      ]
     },
     "execution_count": 5,
     "metadata": {},
     "output_type": "execute_result"
    }
   ],
   "source": [
    "df"
   ]
  },
  {
   "cell_type": "code",
   "execution_count": 6,
   "id": "34851c19",
   "metadata": {},
   "outputs": [],
   "source": [
    "del df['id']"
   ]
  },
  {
   "cell_type": "code",
   "execution_count": 7,
   "id": "60ad0bdf",
   "metadata": {},
   "outputs": [
    {
     "name": "stdout",
     "output_type": "stream",
     "text": [
      "<class 'pandas.core.frame.DataFrame'>\n",
      "Int64Index: 50386 entries, 0 to 50385\n",
      "Data columns (total 18 columns):\n",
      " #   Column           Non-Null Count  Dtype  \n",
      "---  ------           --------------  -----  \n",
      " 0   Time             50386 non-null  int64  \n",
      " 1   Is_CH            50386 non-null  int64  \n",
      " 2   who_CH           50386 non-null  int64  \n",
      " 3   Dist_To_CH       50386 non-null  float64\n",
      " 4   ADV_S            50386 non-null  int64  \n",
      " 5   ADV_R            50386 non-null  int64  \n",
      " 6   JOIN_S           50386 non-null  int64  \n",
      " 7   JOIN_R           50386 non-null  int64  \n",
      " 8   SCH_S            50386 non-null  int64  \n",
      " 9   SCH_R            50386 non-null  int64  \n",
      " 10  Rank             50386 non-null  int64  \n",
      " 11  DATA_S           50386 non-null  int64  \n",
      " 12  DATA_R           50386 non-null  int64  \n",
      " 13  Data_Sent_To_BS  50386 non-null  int64  \n",
      " 14  dist_CH_To_BS    50386 non-null  float64\n",
      " 15  send_code        50386 non-null  int64  \n",
      " 16  Expaned_Energy   50386 non-null  float64\n",
      " 17  Attack_type      50386 non-null  object \n",
      "dtypes: float64(3), int64(14), object(1)\n",
      "memory usage: 7.3+ MB\n"
     ]
    }
   ],
   "source": [
    "df.info()"
   ]
  },
  {
   "cell_type": "code",
   "execution_count": 8,
   "id": "1c50dd4d",
   "metadata": {},
   "outputs": [
    {
     "data": {
      "text/plain": [
       "array(['Normal', 'Flooding', 'TDMA', 'Grayhole', 'Blackhole'],\n",
       "      dtype=object)"
      ]
     },
     "execution_count": 8,
     "metadata": {},
     "output_type": "execute_result"
    }
   ],
   "source": [
    "df['Attack_type'].unique()"
   ]
  },
  {
   "cell_type": "code",
   "execution_count": 9,
   "id": "76376967",
   "metadata": {},
   "outputs": [],
   "source": [
    "from sklearn.preprocessing import LabelEncoder\n",
    "col = ['Attack_type']\n",
    "label = LabelEncoder()\n",
    "for i in col:\n",
    "    df[i] = label.fit_transform(df[i]).astype(int)"
   ]
  },
  {
   "cell_type": "code",
   "execution_count": 10,
   "id": "00d61fc7",
   "metadata": {},
   "outputs": [
    {
     "data": {
      "text/plain": [
       "array([3, 1, 4, 2, 0])"
      ]
     },
     "execution_count": 10,
     "metadata": {},
     "output_type": "execute_result"
    }
   ],
   "source": [
    "df['Attack_type'].unique()"
   ]
  },
  {
   "cell_type": "code",
   "execution_count": 11,
   "id": "b88f51be",
   "metadata": {},
   "outputs": [
    {
     "data": {
      "text/html": [
       "<div>\n",
       "<style scoped>\n",
       "    .dataframe tbody tr th:only-of-type {\n",
       "        vertical-align: middle;\n",
       "    }\n",
       "\n",
       "    .dataframe tbody tr th {\n",
       "        vertical-align: top;\n",
       "    }\n",
       "\n",
       "    .dataframe thead th {\n",
       "        text-align: right;\n",
       "    }\n",
       "</style>\n",
       "<table border=\"1\" class=\"dataframe\">\n",
       "  <thead>\n",
       "    <tr style=\"text-align: right;\">\n",
       "      <th></th>\n",
       "      <th>Time</th>\n",
       "      <th>Is_CH</th>\n",
       "      <th>who_CH</th>\n",
       "      <th>Dist_To_CH</th>\n",
       "      <th>ADV_S</th>\n",
       "      <th>ADV_R</th>\n",
       "      <th>JOIN_S</th>\n",
       "      <th>JOIN_R</th>\n",
       "      <th>SCH_S</th>\n",
       "      <th>SCH_R</th>\n",
       "      <th>Rank</th>\n",
       "      <th>DATA_S</th>\n",
       "      <th>DATA_R</th>\n",
       "      <th>Data_Sent_To_BS</th>\n",
       "      <th>dist_CH_To_BS</th>\n",
       "      <th>send_code</th>\n",
       "      <th>Expaned_Energy</th>\n",
       "      <th>Attack_type</th>\n",
       "    </tr>\n",
       "  </thead>\n",
       "  <tbody>\n",
       "    <tr>\n",
       "      <th>0</th>\n",
       "      <td>50</td>\n",
       "      <td>1</td>\n",
       "      <td>101000</td>\n",
       "      <td>0.00000</td>\n",
       "      <td>1</td>\n",
       "      <td>0</td>\n",
       "      <td>0</td>\n",
       "      <td>25</td>\n",
       "      <td>1</td>\n",
       "      <td>0</td>\n",
       "      <td>0</td>\n",
       "      <td>0</td>\n",
       "      <td>1200</td>\n",
       "      <td>48</td>\n",
       "      <td>130.08535</td>\n",
       "      <td>0</td>\n",
       "      <td>2.46940</td>\n",
       "      <td>3</td>\n",
       "    </tr>\n",
       "    <tr>\n",
       "      <th>1</th>\n",
       "      <td>50</td>\n",
       "      <td>0</td>\n",
       "      <td>101044</td>\n",
       "      <td>75.32345</td>\n",
       "      <td>0</td>\n",
       "      <td>4</td>\n",
       "      <td>1</td>\n",
       "      <td>0</td>\n",
       "      <td>0</td>\n",
       "      <td>1</td>\n",
       "      <td>2</td>\n",
       "      <td>38</td>\n",
       "      <td>0</td>\n",
       "      <td>0</td>\n",
       "      <td>0.00000</td>\n",
       "      <td>4</td>\n",
       "      <td>0.06957</td>\n",
       "      <td>3</td>\n",
       "    </tr>\n",
       "    <tr>\n",
       "      <th>2</th>\n",
       "      <td>50</td>\n",
       "      <td>0</td>\n",
       "      <td>101010</td>\n",
       "      <td>46.95453</td>\n",
       "      <td>0</td>\n",
       "      <td>4</td>\n",
       "      <td>1</td>\n",
       "      <td>0</td>\n",
       "      <td>0</td>\n",
       "      <td>1</td>\n",
       "      <td>19</td>\n",
       "      <td>41</td>\n",
       "      <td>0</td>\n",
       "      <td>0</td>\n",
       "      <td>0.00000</td>\n",
       "      <td>3</td>\n",
       "      <td>0.06898</td>\n",
       "      <td>3</td>\n",
       "    </tr>\n",
       "    <tr>\n",
       "      <th>3</th>\n",
       "      <td>50</td>\n",
       "      <td>0</td>\n",
       "      <td>101044</td>\n",
       "      <td>64.85231</td>\n",
       "      <td>0</td>\n",
       "      <td>4</td>\n",
       "      <td>1</td>\n",
       "      <td>0</td>\n",
       "      <td>0</td>\n",
       "      <td>1</td>\n",
       "      <td>16</td>\n",
       "      <td>38</td>\n",
       "      <td>0</td>\n",
       "      <td>0</td>\n",
       "      <td>0.00000</td>\n",
       "      <td>4</td>\n",
       "      <td>0.06673</td>\n",
       "      <td>3</td>\n",
       "    </tr>\n",
       "    <tr>\n",
       "      <th>4</th>\n",
       "      <td>50</td>\n",
       "      <td>0</td>\n",
       "      <td>101010</td>\n",
       "      <td>4.83341</td>\n",
       "      <td>0</td>\n",
       "      <td>4</td>\n",
       "      <td>1</td>\n",
       "      <td>0</td>\n",
       "      <td>0</td>\n",
       "      <td>1</td>\n",
       "      <td>25</td>\n",
       "      <td>41</td>\n",
       "      <td>0</td>\n",
       "      <td>0</td>\n",
       "      <td>0.00000</td>\n",
       "      <td>3</td>\n",
       "      <td>0.06534</td>\n",
       "      <td>3</td>\n",
       "    </tr>\n",
       "    <tr>\n",
       "      <th>...</th>\n",
       "      <td>...</td>\n",
       "      <td>...</td>\n",
       "      <td>...</td>\n",
       "      <td>...</td>\n",
       "      <td>...</td>\n",
       "      <td>...</td>\n",
       "      <td>...</td>\n",
       "      <td>...</td>\n",
       "      <td>...</td>\n",
       "      <td>...</td>\n",
       "      <td>...</td>\n",
       "      <td>...</td>\n",
       "      <td>...</td>\n",
       "      <td>...</td>\n",
       "      <td>...</td>\n",
       "      <td>...</td>\n",
       "      <td>...</td>\n",
       "      <td>...</td>\n",
       "    </tr>\n",
       "    <tr>\n",
       "      <th>50381</th>\n",
       "      <td>703</td>\n",
       "      <td>1</td>\n",
       "      <td>114021</td>\n",
       "      <td>0.00000</td>\n",
       "      <td>1</td>\n",
       "      <td>6</td>\n",
       "      <td>0</td>\n",
       "      <td>26</td>\n",
       "      <td>1</td>\n",
       "      <td>0</td>\n",
       "      <td>0</td>\n",
       "      <td>0</td>\n",
       "      <td>1196</td>\n",
       "      <td>0</td>\n",
       "      <td>0.00000</td>\n",
       "      <td>0</td>\n",
       "      <td>0.00720</td>\n",
       "      <td>0</td>\n",
       "    </tr>\n",
       "    <tr>\n",
       "      <th>50382</th>\n",
       "      <td>753</td>\n",
       "      <td>1</td>\n",
       "      <td>115065</td>\n",
       "      <td>0.00000</td>\n",
       "      <td>1</td>\n",
       "      <td>4</td>\n",
       "      <td>0</td>\n",
       "      <td>55</td>\n",
       "      <td>1</td>\n",
       "      <td>0</td>\n",
       "      <td>0</td>\n",
       "      <td>0</td>\n",
       "      <td>1320</td>\n",
       "      <td>0</td>\n",
       "      <td>0.00000</td>\n",
       "      <td>0</td>\n",
       "      <td>0.00722</td>\n",
       "      <td>0</td>\n",
       "    </tr>\n",
       "    <tr>\n",
       "      <th>50383</th>\n",
       "      <td>853</td>\n",
       "      <td>1</td>\n",
       "      <td>117005</td>\n",
       "      <td>0.00000</td>\n",
       "      <td>1</td>\n",
       "      <td>10</td>\n",
       "      <td>0</td>\n",
       "      <td>14</td>\n",
       "      <td>1</td>\n",
       "      <td>0</td>\n",
       "      <td>0</td>\n",
       "      <td>0</td>\n",
       "      <td>745</td>\n",
       "      <td>0</td>\n",
       "      <td>0.00000</td>\n",
       "      <td>0</td>\n",
       "      <td>0.00721</td>\n",
       "      <td>0</td>\n",
       "    </tr>\n",
       "    <tr>\n",
       "      <th>50384</th>\n",
       "      <td>853</td>\n",
       "      <td>1</td>\n",
       "      <td>117078</td>\n",
       "      <td>0.00000</td>\n",
       "      <td>1</td>\n",
       "      <td>10</td>\n",
       "      <td>0</td>\n",
       "      <td>11</td>\n",
       "      <td>1</td>\n",
       "      <td>0</td>\n",
       "      <td>0</td>\n",
       "      <td>0</td>\n",
       "      <td>921</td>\n",
       "      <td>0</td>\n",
       "      <td>0.00000</td>\n",
       "      <td>0</td>\n",
       "      <td>0.00726</td>\n",
       "      <td>0</td>\n",
       "    </tr>\n",
       "    <tr>\n",
       "      <th>50385</th>\n",
       "      <td>953</td>\n",
       "      <td>1</td>\n",
       "      <td>119061</td>\n",
       "      <td>0.00000</td>\n",
       "      <td>1</td>\n",
       "      <td>6</td>\n",
       "      <td>0</td>\n",
       "      <td>31</td>\n",
       "      <td>1</td>\n",
       "      <td>0</td>\n",
       "      <td>0</td>\n",
       "      <td>0</td>\n",
       "      <td>1240</td>\n",
       "      <td>0</td>\n",
       "      <td>0.00000</td>\n",
       "      <td>0</td>\n",
       "      <td>0.00722</td>\n",
       "      <td>0</td>\n",
       "    </tr>\n",
       "  </tbody>\n",
       "</table>\n",
       "<p>50386 rows × 18 columns</p>\n",
       "</div>"
      ],
      "text/plain": [
       "       Time  Is_CH  who_CH  Dist_To_CH  ADV_S  ADV_R  JOIN_S  JOIN_R  SCH_S  \\\n",
       "0        50      1  101000     0.00000      1      0       0      25      1   \n",
       "1        50      0  101044    75.32345      0      4       1       0      0   \n",
       "2        50      0  101010    46.95453      0      4       1       0      0   \n",
       "3        50      0  101044    64.85231      0      4       1       0      0   \n",
       "4        50      0  101010     4.83341      0      4       1       0      0   \n",
       "...     ...    ...     ...         ...    ...    ...     ...     ...    ...   \n",
       "50381   703      1  114021     0.00000      1      6       0      26      1   \n",
       "50382   753      1  115065     0.00000      1      4       0      55      1   \n",
       "50383   853      1  117005     0.00000      1     10       0      14      1   \n",
       "50384   853      1  117078     0.00000      1     10       0      11      1   \n",
       "50385   953      1  119061     0.00000      1      6       0      31      1   \n",
       "\n",
       "       SCH_R  Rank  DATA_S  DATA_R  Data_Sent_To_BS  dist_CH_To_BS  send_code  \\\n",
       "0          0     0       0    1200               48      130.08535          0   \n",
       "1          1     2      38       0                0        0.00000          4   \n",
       "2          1    19      41       0                0        0.00000          3   \n",
       "3          1    16      38       0                0        0.00000          4   \n",
       "4          1    25      41       0                0        0.00000          3   \n",
       "...      ...   ...     ...     ...              ...            ...        ...   \n",
       "50381      0     0       0    1196                0        0.00000          0   \n",
       "50382      0     0       0    1320                0        0.00000          0   \n",
       "50383      0     0       0     745                0        0.00000          0   \n",
       "50384      0     0       0     921                0        0.00000          0   \n",
       "50385      0     0       0    1240                0        0.00000          0   \n",
       "\n",
       "       Expaned_Energy  Attack_type  \n",
       "0             2.46940            3  \n",
       "1             0.06957            3  \n",
       "2             0.06898            3  \n",
       "3             0.06673            3  \n",
       "4             0.06534            3  \n",
       "...               ...          ...  \n",
       "50381         0.00720            0  \n",
       "50382         0.00722            0  \n",
       "50383         0.00721            0  \n",
       "50384         0.00726            0  \n",
       "50385         0.00722            0  \n",
       "\n",
       "[50386 rows x 18 columns]"
      ]
     },
     "execution_count": 11,
     "metadata": {},
     "output_type": "execute_result"
    }
   ],
   "source": [
    "df"
   ]
  },
  {
   "cell_type": "code",
   "execution_count": 12,
   "id": "2706220f",
   "metadata": {},
   "outputs": [],
   "source": [
    "inputs = df.drop(labels='Attack_type', axis=1)\n",
    "output = df.loc[:,'Attack_type']"
   ]
  },
  {
   "cell_type": "code",
   "execution_count": 13,
   "id": "a816a921",
   "metadata": {
    "scrolled": true
   },
   "outputs": [
    {
     "name": "stdout",
     "output_type": "stream",
     "text": [
      "Number of Training Dataset:  35270\n",
      "Number of Testing Dataset:  15116\n",
      "Total Number of Dataset:  50386\n"
     ]
    }
   ],
   "source": [
    "from sklearn.model_selection import train_test_split\n",
    "X_train, X_test, y_train, y_test = train_test_split(inputs, output, test_size=0.3, random_state=1, stratify=output)\n",
    "print(\"Number of Training Dataset: \", len(X_train))\n",
    "print(\"Number of Testing Dataset: \", len(X_test))\n",
    "print(\"Total Number of Dataset: \", len(X_train)+len(X_test))"
   ]
  },
  {
   "cell_type": "markdown",
   "id": "99652511",
   "metadata": {},
   "source": [
    "Voting Classifier"
   ]
  },
  {
   "cell_type": "code",
   "execution_count": 14,
   "id": "ac78cf1e",
   "metadata": {},
   "outputs": [],
   "source": [
    "from sklearn.naive_bayes import GaussianNB\n",
    "from sklearn.ensemble import AdaBoostClassifier\n",
    "from sklearn.neighbors import KNeighborsClassifier\n",
    "from sklearn.ensemble import VotingClassifier\n",
    "from sklearn.metrics import confusion_matrix, classification_report, accuracy_score, plot_confusion_matrix"
   ]
  },
  {
   "cell_type": "code",
   "execution_count": 15,
   "id": "da3f7f78",
   "metadata": {},
   "outputs": [],
   "source": [
    "gnb = GaussianNB()\n",
    "abc = AdaBoostClassifier()\n",
    "knn = KNeighborsClassifier()"
   ]
  },
  {
   "cell_type": "code",
   "execution_count": 16,
   "id": "0640aef3",
   "metadata": {},
   "outputs": [],
   "source": [
    "vot_clf = VotingClassifier(estimators=[('GaussianNB', gnb), ('AdaBoostClassifier', abc), ('KNeighborsClassifier', knn)], voting='hard')"
   ]
  },
  {
   "cell_type": "markdown",
   "id": "d8d100a8",
   "metadata": {},
   "source": [
    "Training Process"
   ]
  },
  {
   "cell_type": "code",
   "execution_count": 17,
   "id": "96564535",
   "metadata": {},
   "outputs": [],
   "source": [
    "vot_clf.fit(X_train, y_train)\n",
    "pred_vtng = vot_clf.predict(X_test)"
   ]
  },
  {
   "cell_type": "markdown",
   "id": "b6b5a07e",
   "metadata": {},
   "source": [
    "Getting Accuracy"
   ]
  },
  {
   "cell_type": "code",
   "execution_count": 18,
   "id": "476dee3a",
   "metadata": {},
   "outputs": [
    {
     "name": "stdout",
     "output_type": "stream",
     "text": [
      "Accuracy of Voting Classifier is:  94.48266737232072\n"
     ]
    }
   ],
   "source": [
    "accuracy = accuracy_score(y_test,pred_vtng)\n",
    "print('Accuracy of Voting Classifier is: ',accuracy*100)"
   ]
  },
  {
   "cell_type": "markdown",
   "id": "1812d0ef",
   "metadata": {},
   "source": [
    "Finding Clasiification Report"
   ]
  },
  {
   "cell_type": "code",
   "execution_count": 19,
   "id": "b4e55a65",
   "metadata": {},
   "outputs": [
    {
     "name": "stdout",
     "output_type": "stream",
     "text": [
      "Classification report\n",
      "---------------------\n",
      "               precision    recall  f1-score   support\n",
      "\n",
      "           0       0.94      0.97      0.96      3015\n",
      "           1       0.81      0.97      0.88       994\n",
      "           2       0.93      0.97      0.95      4379\n",
      "           3       0.97      0.95      0.96      4737\n",
      "           4       0.99      0.84      0.91      1991\n",
      "\n",
      "    accuracy                           0.94     15116\n",
      "   macro avg       0.93      0.94      0.93     15116\n",
      "weighted avg       0.95      0.94      0.94     15116\n",
      "\n"
     ]
    }
   ],
   "source": [
    "cr = classification_report(y_test,pred_vtng)\n",
    "print('Classification report\\n---------------------\\n',cr)"
   ]
  },
  {
   "cell_type": "markdown",
   "id": "d34db896",
   "metadata": {},
   "source": [
    "Finding Confusion Matrix"
   ]
  },
  {
   "cell_type": "code",
   "execution_count": 20,
   "id": "6e2f2e6d",
   "metadata": {},
   "outputs": [
    {
     "name": "stdout",
     "output_type": "stream",
     "text": [
      "Confusion matrix\n",
      "----------------\n",
      " [[2914    0  101    0    0]\n",
      " [   9  966   19    0    0]\n",
      " [  64   65 4228   11   11]\n",
      " [  10  107  112 4502    6]\n",
      " [  90   52   66  111 1672]]\n"
     ]
    }
   ],
   "source": [
    "cm = confusion_matrix(y_test,pred_vtng)\n",
    "print('Confusion matrix\\n----------------\\n',cm)"
   ]
  },
  {
   "cell_type": "code",
   "execution_count": 21,
   "id": "33d6e622",
   "metadata": {},
   "outputs": [
    {
     "data": {
      "image/png": "[encoded data removed]",
      "text/plain": [
       "<Figure size 504x504 with 2 Axes>"
      ]
     },
     "metadata": {
      "needs_background": "light"
     },
     "output_type": "display_data"
    }
   ],
   "source": [
    "import matplotlib.pyplot as plt\n",
    "fig, ax = plt.subplots(figsize=(7,7))\n",
    "plot_confusion_matrix(vot_clf, X_test, y_test, ax=ax)\n",
    "plt.title('Confusion Matrix of Voting Classifier')\n",
    "plt.show()"
   ]
  },
  {
   "cell_type": "code",
   "execution_count": 22,
   "id": "d54f9523",
   "metadata": {},
   "outputs": [
    {
     "data": {
      "image/png": "[encoded data removed]",
      "text/plain": [
       "<Figure size 1440x360 with 1 Axes>"
      ]
     },
     "metadata": {
      "needs_background": "light"
     },
     "output_type": "display_data"
    }
   ],
   "source": [
    "DF = p.DataFrame()\n",
    "DF[\"y_test\"] = y_test\n",
    "DF[\"predicted\"] = pred_vtng\n",
    "DF.reset_index(inplace=True)\n",
    "plt.figure(figsize=(20, 5))\n",
    "plt.plot(DF[\"predicted\"][:100], marker='x', linestyle='dashed', color='red')\n",
    "plt.plot(DF[\"y_test\"][:100],  marker='o', linestyle='dashed', color='green')\n",
    "plt.show()"
   ]
  },
  {
   "cell_type": "code",
   "execution_count": null,
   "id": "f4cb3304",
   "metadata": {},
   "outputs": [],
   "source": []
  },
  {
   "cell_type": "markdown",
   "id": "9db5d40e",
   "metadata": {},
   "source": [
    "Saving Model"
   ]
  },
  {
   "cell_type": "code",
   "execution_count": 23,
   "id": "ff2ea647",
   "metadata": {},
   "outputs": [
    {
     "data": {
      "text/plain": [
       "['VC.pkl']"
      ]
     },
     "execution_count": 23,
     "metadata": {},
     "output_type": "execute_result"
    }
   ],
   "source": [
    "import joblib\n",
    "joblib.dump(vot_clf,'VC.pkl')"
   ]
  },
  {
   "cell_type": "code",
   "execution_count": null,
   "id": "10302b63",
   "metadata": {},
   "outputs": [],
   "source": []
  },
  {
   "cell_type": "code",
   "execution_count": null,
   "id": "fe085eec",
   "metadata": {},
   "outputs": [],
   "source": []
  }
 ],
 "metadata": {
  "kernelspec": {
   "display_name": "Python 3 (ipykernel)",
   "language": "python",
   "name": "python3"
  },
  "language_info": {
   "codemirror_mode": {
    "name": "ipython",
    "version": 3
   },
   "file_extension": ".py",
   "mimetype": "text/x-python",
   "name": "python",
   "nbconvert_exporter": "python",
   "pygments_lexer": "ipython3",
   "version": "3.9.13"
  },
  "vscode": {
   "interpreter": {
    "hash": "966b75c93721bbd9b49a1c6a617c3e6bc223d829a9e20c9f6c375c7ef691189c"
   }
  }
 },
 "nbformat": 4,
 "nbformat_minor": 5
}
