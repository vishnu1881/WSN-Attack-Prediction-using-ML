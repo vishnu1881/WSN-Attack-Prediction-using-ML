{
 "cells": [
  {
   "cell_type": "markdown",
   "id": "3849fe4a",
   "metadata": {},
   "source": [
    "# Module - 1"
   ]
  },
  {
   "cell_type": "markdown",
   "id": "6e0a7973",
   "metadata": {},
   "source": [
    "# Data Pre-Processing"
   ]
  },
  {
   "cell_type": "code",
   "execution_count": 1,
   "id": "436cf2e0",
   "metadata": {},
   "outputs": [],
   "source": [
    "import pandas as p\n",
    "import numpy as n"
   ]
  },
  {
   "cell_type": "code",
   "execution_count": 2,
   "id": "7a4cee62",
   "metadata": {},
   "outputs": [],
   "source": [
    "import warnings\n",
    "warnings.filterwarnings('ignore')"
   ]
  },
  {
   "cell_type": "code",
   "execution_count": 3,
   "id": "b0d4b6fd",
   "metadata": {},
   "outputs": [],
   "source": [
    "data = p.read_csv('WSN_Dataset.csv')"
   ]
  },
  {
   "cell_type": "code",
   "execution_count": 4,
   "id": "4261f6e2",
   "metadata": {},
   "outputs": [
    {
     "data": {
      "text/html": [
       "<div>\n",
       "<style scoped>\n",
       "    .dataframe tbody tr th:only-of-type {\n",
       "        vertical-align: middle;\n",
       "    }\n",
       "\n",
       "    .dataframe tbody tr th {\n",
       "        vertical-align: top;\n",
       "    }\n",
       "\n",
       "    .dataframe thead th {\n",
       "        text-align: right;\n",
       "    }\n",
       "</style>\n",
       "<table border=\"1\" class=\"dataframe\">\n",
       "  <thead>\n",
       "    <tr style=\"text-align: right;\">\n",
       "      <th></th>\n",
       "      <th>id</th>\n",
       "      <th>Time</th>\n",
       "      <th>Is_CH</th>\n",
       "      <th>who_CH</th>\n",
       "      <th>Dist_To_CH</th>\n",
       "      <th>ADV_S</th>\n",
       "      <th>ADV_R</th>\n",
       "      <th>JOIN_S</th>\n",
       "      <th>JOIN_R</th>\n",
       "      <th>SCH_S</th>\n",
       "      <th>SCH_R</th>\n",
       "      <th>Rank</th>\n",
       "      <th>DATA_S</th>\n",
       "      <th>DATA_R</th>\n",
       "      <th>Data_Sent_To_BS</th>\n",
       "      <th>dist_CH_To_BS</th>\n",
       "      <th>send_code</th>\n",
       "      <th>Expaned_Energy</th>\n",
       "      <th>Attack_type</th>\n",
       "    </tr>\n",
       "  </thead>\n",
       "  <tbody>\n",
       "    <tr>\n",
       "      <th>0</th>\n",
       "      <td>0</td>\n",
       "      <td>50</td>\n",
       "      <td>1</td>\n",
       "      <td>101000</td>\n",
       "      <td>0.00000</td>\n",
       "      <td>1</td>\n",
       "      <td>0</td>\n",
       "      <td>0</td>\n",
       "      <td>25</td>\n",
       "      <td>1</td>\n",
       "      <td>0</td>\n",
       "      <td>0</td>\n",
       "      <td>0</td>\n",
       "      <td>1200</td>\n",
       "      <td>48</td>\n",
       "      <td>130.08535</td>\n",
       "      <td>0</td>\n",
       "      <td>2.46940</td>\n",
       "      <td>Normal</td>\n",
       "    </tr>\n",
       "    <tr>\n",
       "      <th>1</th>\n",
       "      <td>1</td>\n",
       "      <td>50</td>\n",
       "      <td>0</td>\n",
       "      <td>101044</td>\n",
       "      <td>75.32345</td>\n",
       "      <td>0</td>\n",
       "      <td>4</td>\n",
       "      <td>1</td>\n",
       "      <td>0</td>\n",
       "      <td>0</td>\n",
       "      <td>1</td>\n",
       "      <td>2</td>\n",
       "      <td>38</td>\n",
       "      <td>0</td>\n",
       "      <td>0</td>\n",
       "      <td>0.00000</td>\n",
       "      <td>4</td>\n",
       "      <td>0.06957</td>\n",
       "      <td>Normal</td>\n",
       "    </tr>\n",
       "    <tr>\n",
       "      <th>2</th>\n",
       "      <td>2</td>\n",
       "      <td>50</td>\n",
       "      <td>0</td>\n",
       "      <td>101010</td>\n",
       "      <td>46.95453</td>\n",
       "      <td>0</td>\n",
       "      <td>4</td>\n",
       "      <td>1</td>\n",
       "      <td>0</td>\n",
       "      <td>0</td>\n",
       "      <td>1</td>\n",
       "      <td>19</td>\n",
       "      <td>41</td>\n",
       "      <td>0</td>\n",
       "      <td>0</td>\n",
       "      <td>0.00000</td>\n",
       "      <td>3</td>\n",
       "      <td>0.06898</td>\n",
       "      <td>Normal</td>\n",
       "    </tr>\n",
       "    <tr>\n",
       "      <th>3</th>\n",
       "      <td>3</td>\n",
       "      <td>50</td>\n",
       "      <td>0</td>\n",
       "      <td>101044</td>\n",
       "      <td>64.85231</td>\n",
       "      <td>0</td>\n",
       "      <td>4</td>\n",
       "      <td>1</td>\n",
       "      <td>0</td>\n",
       "      <td>0</td>\n",
       "      <td>1</td>\n",
       "      <td>16</td>\n",
       "      <td>38</td>\n",
       "      <td>0</td>\n",
       "      <td>0</td>\n",
       "      <td>0.00000</td>\n",
       "      <td>4</td>\n",
       "      <td>0.06673</td>\n",
       "      <td>Normal</td>\n",
       "    </tr>\n",
       "    <tr>\n",
       "      <th>4</th>\n",
       "      <td>4</td>\n",
       "      <td>50</td>\n",
       "      <td>0</td>\n",
       "      <td>101010</td>\n",
       "      <td>4.83341</td>\n",
       "      <td>0</td>\n",
       "      <td>4</td>\n",
       "      <td>1</td>\n",
       "      <td>0</td>\n",
       "      <td>0</td>\n",
       "      <td>1</td>\n",
       "      <td>25</td>\n",
       "      <td>41</td>\n",
       "      <td>0</td>\n",
       "      <td>0</td>\n",
       "      <td>0.00000</td>\n",
       "      <td>3</td>\n",
       "      <td>0.06534</td>\n",
       "      <td>Normal</td>\n",
       "    </tr>\n",
       "  </tbody>\n",
       "</table>\n",
       "</div>"
      ],
      "text/plain": [
       "   id  Time  Is_CH  who_CH  Dist_To_CH  ADV_S  ADV_R  JOIN_S  JOIN_R  SCH_S  \\\n",
       "0   0    50      1  101000     0.00000      1      0       0      25      1   \n",
       "1   1    50      0  101044    75.32345      0      4       1       0      0   \n",
       "2   2    50      0  101010    46.95453      0      4       1       0      0   \n",
       "3   3    50      0  101044    64.85231      0      4       1       0      0   \n",
       "4   4    50      0  101010     4.83341      0      4       1       0      0   \n",
       "\n",
       "   SCH_R  Rank  DATA_S  DATA_R  Data_Sent_To_BS  dist_CH_To_BS  send_code  \\\n",
       "0      0     0       0    1200               48      130.08535          0   \n",
       "1      1     2      38       0                0        0.00000          4   \n",
       "2      1    19      41       0                0        0.00000          3   \n",
       "3      1    16      38       0                0        0.00000          4   \n",
       "4      1    25      41       0                0        0.00000          3   \n",
       "\n",
       "   Expaned_Energy Attack_type  \n",
       "0         2.46940      Normal  \n",
       "1         0.06957      Normal  \n",
       "2         0.06898      Normal  \n",
       "3         0.06673      Normal  \n",
       "4         0.06534      Normal  "
      ]
     },
     "execution_count": 4,
     "metadata": {},
     "output_type": "execute_result"
    }
   ],
   "source": [
    "data.head()"
   ]
  },
  {
   "cell_type": "code",
   "execution_count": 5,
   "id": "6d45ef5f",
   "metadata": {},
   "outputs": [
    {
     "data": {
      "text/plain": [
       "(50386, 19)"
      ]
     },
     "execution_count": 5,
     "metadata": {},
     "output_type": "execute_result"
    }
   ],
   "source": [
    "data.shape"
   ]
  },
  {
   "cell_type": "code",
   "execution_count": 6,
   "id": "04abccf8",
   "metadata": {},
   "outputs": [],
   "source": [
    "df = data.dropna()"
   ]
  },
  {
   "cell_type": "code",
   "execution_count": 7,
   "id": "ac307073",
   "metadata": {},
   "outputs": [
    {
     "data": {
      "text/plain": [
       "(50386, 19)"
      ]
     },
     "execution_count": 7,
     "metadata": {},
     "output_type": "execute_result"
    }
   ],
   "source": [
    "df.shape"
   ]
  },
  {
   "cell_type": "code",
   "execution_count": 8,
   "id": "df84846f",
   "metadata": {},
   "outputs": [
    {
     "data": {
      "text/plain": [
       "id                 0\n",
       "Time               0\n",
       "Is_CH              0\n",
       "who_CH             0\n",
       "Dist_To_CH         0\n",
       "ADV_S              0\n",
       "ADV_R              0\n",
       "JOIN_S             0\n",
       "JOIN_R             0\n",
       "SCH_S              0\n",
       "SCH_R              0\n",
       "Rank               0\n",
       "DATA_S             0\n",
       "DATA_R             0\n",
       "Data_Sent_To_BS    0\n",
       "dist_CH_To_BS      0\n",
       "send_code          0\n",
       "Expaned_Energy     0\n",
       "Attack_type        0\n",
       "dtype: int64"
      ]
     },
     "execution_count": 8,
     "metadata": {},
     "output_type": "execute_result"
    }
   ],
   "source": [
    "df.isnull().sum()"
   ]
  },
  {
   "cell_type": "code",
   "execution_count": 9,
   "id": "9b6f9059",
   "metadata": {},
   "outputs": [
    {
     "data": {
      "text/plain": [
       "Index(['id', 'Time', 'Is_CH', 'who_CH', 'Dist_To_CH', 'ADV_S', 'ADV_R',\n",
       "       'JOIN_S', 'JOIN_R', 'SCH_S', 'SCH_R', 'Rank', 'DATA_S', 'DATA_R',\n",
       "       'Data_Sent_To_BS', 'dist_CH_To_BS', 'send_code', 'Expaned_Energy',\n",
       "       'Attack_type'],\n",
       "      dtype='object')"
      ]
     },
     "execution_count": 9,
     "metadata": {},
     "output_type": "execute_result"
    }
   ],
   "source": [
    "df.columns"
   ]
  },
  {
   "cell_type": "code",
   "execution_count": 10,
   "id": "526b9c32",
   "metadata": {},
   "outputs": [
    {
     "data": {
      "text/html": [
       "<div>\n",
       "<style scoped>\n",
       "    .dataframe tbody tr th:only-of-type {\n",
       "        vertical-align: middle;\n",
       "    }\n",
       "\n",
       "    .dataframe tbody tr th {\n",
       "        vertical-align: top;\n",
       "    }\n",
       "\n",
       "    .dataframe thead th {\n",
       "        text-align: right;\n",
       "    }\n",
       "</style>\n",
       "<table border=\"1\" class=\"dataframe\">\n",
       "  <thead>\n",
       "    <tr style=\"text-align: right;\">\n",
       "      <th></th>\n",
       "      <th>id</th>\n",
       "      <th>Time</th>\n",
       "      <th>Is_CH</th>\n",
       "      <th>who_CH</th>\n",
       "      <th>Dist_To_CH</th>\n",
       "      <th>ADV_S</th>\n",
       "      <th>ADV_R</th>\n",
       "      <th>JOIN_S</th>\n",
       "      <th>JOIN_R</th>\n",
       "      <th>SCH_S</th>\n",
       "      <th>SCH_R</th>\n",
       "      <th>Rank</th>\n",
       "      <th>DATA_S</th>\n",
       "      <th>DATA_R</th>\n",
       "      <th>Data_Sent_To_BS</th>\n",
       "      <th>dist_CH_To_BS</th>\n",
       "      <th>send_code</th>\n",
       "      <th>Expaned_Energy</th>\n",
       "    </tr>\n",
       "  </thead>\n",
       "  <tbody>\n",
       "    <tr>\n",
       "      <th>count</th>\n",
       "      <td>50386.000000</td>\n",
       "      <td>50386.000000</td>\n",
       "      <td>50386.000000</td>\n",
       "      <td>5.038600e+04</td>\n",
       "      <td>50386.000000</td>\n",
       "      <td>50386.000000</td>\n",
       "      <td>50386.000000</td>\n",
       "      <td>50386.000000</td>\n",
       "      <td>50386.000000</td>\n",
       "      <td>50386.000000</td>\n",
       "      <td>50386.000000</td>\n",
       "      <td>50386.000000</td>\n",
       "      <td>50386.000000</td>\n",
       "      <td>50386.000000</td>\n",
       "      <td>50386.000000</td>\n",
       "      <td>50386.000000</td>\n",
       "      <td>50386.000000</td>\n",
       "      <td>50386.000000</td>\n",
       "    </tr>\n",
       "    <tr>\n",
       "      <th>mean</th>\n",
       "      <td>144135.348906</td>\n",
       "      <td>1631.872663</td>\n",
       "      <td>0.692097</td>\n",
       "      <td>5.222792e+05</td>\n",
       "      <td>7.956177</td>\n",
       "      <td>1.800996</td>\n",
       "      <td>14.657504</td>\n",
       "      <td>0.212877</td>\n",
       "      <td>4.077482</td>\n",
       "      <td>2.050292</td>\n",
       "      <td>0.182809</td>\n",
       "      <td>4.075735</td>\n",
       "      <td>9.289922</td>\n",
       "      <td>155.757572</td>\n",
       "      <td>11.259794</td>\n",
       "      <td>47.503985</td>\n",
       "      <td>0.876533</td>\n",
       "      <td>0.459016</td>\n",
       "    </tr>\n",
       "    <tr>\n",
       "      <th>std</th>\n",
       "      <td>122135.673877</td>\n",
       "      <td>1136.619687</td>\n",
       "      <td>0.461631</td>\n",
       "      <td>5.710779e+05</td>\n",
       "      <td>20.769609</td>\n",
       "      <td>5.328810</td>\n",
       "      <td>10.713167</td>\n",
       "      <td>0.409345</td>\n",
       "      <td>10.434079</td>\n",
       "      <td>7.262731</td>\n",
       "      <td>0.386513</td>\n",
       "      <td>11.304608</td>\n",
       "      <td>24.922483</td>\n",
       "      <td>335.526372</td>\n",
       "      <td>34.375385</td>\n",
       "      <td>64.472742</td>\n",
       "      <td>2.361297</td>\n",
       "      <td>0.776257</td>\n",
       "    </tr>\n",
       "    <tr>\n",
       "      <th>min</th>\n",
       "      <td>0.000000</td>\n",
       "      <td>50.000000</td>\n",
       "      <td>0.000000</td>\n",
       "      <td>1.010000e+05</td>\n",
       "      <td>0.000000</td>\n",
       "      <td>0.000000</td>\n",
       "      <td>0.000000</td>\n",
       "      <td>0.000000</td>\n",
       "      <td>0.000000</td>\n",
       "      <td>0.000000</td>\n",
       "      <td>0.000000</td>\n",
       "      <td>0.000000</td>\n",
       "      <td>0.000000</td>\n",
       "      <td>0.000000</td>\n",
       "      <td>0.000000</td>\n",
       "      <td>0.000000</td>\n",
       "      <td>0.000000</td>\n",
       "      <td>0.000000</td>\n",
       "    </tr>\n",
       "    <tr>\n",
       "      <th>25%</th>\n",
       "      <td>12596.250000</td>\n",
       "      <td>553.000000</td>\n",
       "      <td>0.000000</td>\n",
       "      <td>1.120540e+05</td>\n",
       "      <td>0.000000</td>\n",
       "      <td>0.000000</td>\n",
       "      <td>5.000000</td>\n",
       "      <td>0.000000</td>\n",
       "      <td>0.000000</td>\n",
       "      <td>0.000000</td>\n",
       "      <td>0.000000</td>\n",
       "      <td>0.000000</td>\n",
       "      <td>0.000000</td>\n",
       "      <td>0.000000</td>\n",
       "      <td>0.000000</td>\n",
       "      <td>0.000000</td>\n",
       "      <td>0.000000</td>\n",
       "      <td>0.007230</td>\n",
       "    </tr>\n",
       "    <tr>\n",
       "      <th>50%</th>\n",
       "      <td>141644.500000</td>\n",
       "      <td>1503.000000</td>\n",
       "      <td>1.000000</td>\n",
       "      <td>4.011000e+05</td>\n",
       "      <td>0.000000</td>\n",
       "      <td>1.000000</td>\n",
       "      <td>11.000000</td>\n",
       "      <td>0.000000</td>\n",
       "      <td>0.000000</td>\n",
       "      <td>0.000000</td>\n",
       "      <td>0.000000</td>\n",
       "      <td>0.000000</td>\n",
       "      <td>0.000000</td>\n",
       "      <td>0.000000</td>\n",
       "      <td>0.000000</td>\n",
       "      <td>0.000000</td>\n",
       "      <td>0.000000</td>\n",
       "      <td>0.049820</td>\n",
       "    </tr>\n",
       "    <tr>\n",
       "      <th>75%</th>\n",
       "      <td>250151.750000</td>\n",
       "      <td>2703.000000</td>\n",
       "      <td>1.000000</td>\n",
       "      <td>7.010880e+05</td>\n",
       "      <td>0.000000</td>\n",
       "      <td>1.000000</td>\n",
       "      <td>26.000000</td>\n",
       "      <td>0.000000</td>\n",
       "      <td>1.000000</td>\n",
       "      <td>1.000000</td>\n",
       "      <td>0.000000</td>\n",
       "      <td>0.000000</td>\n",
       "      <td>0.000000</td>\n",
       "      <td>91.000000</td>\n",
       "      <td>13.000000</td>\n",
       "      <td>112.103960</td>\n",
       "      <td>0.000000</td>\n",
       "      <td>0.508370</td>\n",
       "    </tr>\n",
       "    <tr>\n",
       "      <th>max</th>\n",
       "      <td>374523.000000</td>\n",
       "      <td>3600.000000</td>\n",
       "      <td>1.000000</td>\n",
       "      <td>3.401100e+06</td>\n",
       "      <td>214.274620</td>\n",
       "      <td>97.000000</td>\n",
       "      <td>28.000000</td>\n",
       "      <td>1.000000</td>\n",
       "      <td>124.000000</td>\n",
       "      <td>99.000000</td>\n",
       "      <td>1.000000</td>\n",
       "      <td>99.000000</td>\n",
       "      <td>241.000000</td>\n",
       "      <td>1372.000000</td>\n",
       "      <td>241.000000</td>\n",
       "      <td>201.934940</td>\n",
       "      <td>15.000000</td>\n",
       "      <td>4.951570</td>\n",
       "    </tr>\n",
       "  </tbody>\n",
       "</table>\n",
       "</div>"
      ],
      "text/plain": [
       "                  id          Time         Is_CH        who_CH    Dist_To_CH  \\\n",
       "count   50386.000000  50386.000000  50386.000000  5.038600e+04  50386.000000   \n",
       "mean   144135.348906   1631.872663      0.692097  5.222792e+05      7.956177   \n",
       "std    122135.673877   1136.619687      0.461631  5.710779e+05     20.769609   \n",
       "min         0.000000     50.000000      0.000000  1.010000e+05      0.000000   \n",
       "25%     12596.250000    553.000000      0.000000  1.120540e+05      0.000000   \n",
       "50%    141644.500000   1503.000000      1.000000  4.011000e+05      0.000000   \n",
       "75%    250151.750000   2703.000000      1.000000  7.010880e+05      0.000000   \n",
       "max    374523.000000   3600.000000      1.000000  3.401100e+06    214.274620   \n",
       "\n",
       "              ADV_S         ADV_R        JOIN_S        JOIN_R         SCH_S  \\\n",
       "count  50386.000000  50386.000000  50386.000000  50386.000000  50386.000000   \n",
       "mean       1.800996     14.657504      0.212877      4.077482      2.050292   \n",
       "std        5.328810     10.713167      0.409345     10.434079      7.262731   \n",
       "min        0.000000      0.000000      0.000000      0.000000      0.000000   \n",
       "25%        0.000000      5.000000      0.000000      0.000000      0.000000   \n",
       "50%        1.000000     11.000000      0.000000      0.000000      0.000000   \n",
       "75%        1.000000     26.000000      0.000000      1.000000      1.000000   \n",
       "max       97.000000     28.000000      1.000000    124.000000     99.000000   \n",
       "\n",
       "              SCH_R          Rank        DATA_S        DATA_R  \\\n",
       "count  50386.000000  50386.000000  50386.000000  50386.000000   \n",
       "mean       0.182809      4.075735      9.289922    155.757572   \n",
       "std        0.386513     11.304608     24.922483    335.526372   \n",
       "min        0.000000      0.000000      0.000000      0.000000   \n",
       "25%        0.000000      0.000000      0.000000      0.000000   \n",
       "50%        0.000000      0.000000      0.000000      0.000000   \n",
       "75%        0.000000      0.000000      0.000000     91.000000   \n",
       "max        1.000000     99.000000    241.000000   1372.000000   \n",
       "\n",
       "       Data_Sent_To_BS  dist_CH_To_BS     send_code  Expaned_Energy  \n",
       "count     50386.000000   50386.000000  50386.000000    50386.000000  \n",
       "mean         11.259794      47.503985      0.876533        0.459016  \n",
       "std          34.375385      64.472742      2.361297        0.776257  \n",
       "min           0.000000       0.000000      0.000000        0.000000  \n",
       "25%           0.000000       0.000000      0.000000        0.007230  \n",
       "50%           0.000000       0.000000      0.000000        0.049820  \n",
       "75%          13.000000     112.103960      0.000000        0.508370  \n",
       "max         241.000000     201.934940     15.000000        4.951570  "
      ]
     },
     "execution_count": 10,
     "metadata": {},
     "output_type": "execute_result"
    }
   ],
   "source": [
    "df.describe()"
   ]
  },
  {
   "cell_type": "code",
   "execution_count": 11,
   "id": "1053f95d",
   "metadata": {},
   "outputs": [
    {
     "data": {
      "text/plain": [
       "array([1, 0], dtype=int64)"
      ]
     },
     "execution_count": 11,
     "metadata": {},
     "output_type": "execute_result"
    }
   ],
   "source": [
    "df.Is_CH.unique()"
   ]
  },
  {
   "cell_type": "code",
   "execution_count": 12,
   "id": "6fb884c1",
   "metadata": {},
   "outputs": [
    {
     "data": {
      "text/plain": [
       "array([ 25,   0,  30,   8,  33,  56,  42,  20,  48,  29,  32,  66,  15,\n",
       "        12,   9,  18,  13,  14,  16,  27,   6,   5,  28,  50,  26,  19,\n",
       "         4,  44,  46,   2,  11,  10,  23,  99,  17,   1,   3,   7,  24,\n",
       "        21,  22,  35,  31,  63,  55,  51,  41,  61,  40,  90,  54,  47,\n",
       "        82,  80,  38,  75,  39,  72,  62,  64,  36,  70,  52,  49,  59,\n",
       "        60,  45,  95,  93,  98, 124,  97,  89,  43,  69,  53,  34,  96,\n",
       "        37,  76,  65,  73,  79,  58,  71,  86,  78,  68,  67,  74,  57,\n",
       "        88,  77,  81,  84,  94,  92,  83,  87,  85], dtype=int64)"
      ]
     },
     "execution_count": 12,
     "metadata": {},
     "output_type": "execute_result"
    }
   ],
   "source": [
    "df.JOIN_R.unique()"
   ]
  },
  {
   "cell_type": "code",
   "execution_count": 13,
   "id": "40909c6a",
   "metadata": {},
   "outputs": [
    {
     "data": {
      "text/plain": [
       "array([ 0,  4,  3,  1,  2,  7,  5,  6,  8,  9, 10, 11, 12, 13, 14, 15],\n",
       "      dtype=int64)"
      ]
     },
     "execution_count": 13,
     "metadata": {},
     "output_type": "execute_result"
    }
   ],
   "source": [
    "df.send_code.unique()"
   ]
  },
  {
   "cell_type": "code",
   "execution_count": 14,
   "id": "d81bc437",
   "metadata": {},
   "outputs": [
    {
     "data": {
      "text/html": [
       "<div>\n",
       "<style scoped>\n",
       "    .dataframe tbody tr th:only-of-type {\n",
       "        vertical-align: middle;\n",
       "    }\n",
       "\n",
       "    .dataframe tbody tr th {\n",
       "        vertical-align: top;\n",
       "    }\n",
       "\n",
       "    .dataframe thead th {\n",
       "        text-align: right;\n",
       "    }\n",
       "</style>\n",
       "<table border=\"1\" class=\"dataframe\">\n",
       "  <thead>\n",
       "    <tr style=\"text-align: right;\">\n",
       "      <th>send_code</th>\n",
       "      <th>0</th>\n",
       "      <th>1</th>\n",
       "      <th>2</th>\n",
       "      <th>3</th>\n",
       "      <th>4</th>\n",
       "      <th>5</th>\n",
       "      <th>6</th>\n",
       "      <th>7</th>\n",
       "      <th>8</th>\n",
       "      <th>9</th>\n",
       "      <th>10</th>\n",
       "      <th>11</th>\n",
       "      <th>12</th>\n",
       "      <th>13</th>\n",
       "      <th>14</th>\n",
       "      <th>15</th>\n",
       "    </tr>\n",
       "    <tr>\n",
       "      <th>Attack_type</th>\n",
       "      <th></th>\n",
       "      <th></th>\n",
       "      <th></th>\n",
       "      <th></th>\n",
       "      <th></th>\n",
       "      <th></th>\n",
       "      <th></th>\n",
       "      <th></th>\n",
       "      <th></th>\n",
       "      <th></th>\n",
       "      <th></th>\n",
       "      <th></th>\n",
       "      <th></th>\n",
       "      <th></th>\n",
       "      <th></th>\n",
       "      <th></th>\n",
       "    </tr>\n",
       "  </thead>\n",
       "  <tbody>\n",
       "    <tr>\n",
       "      <th>Blackhole</th>\n",
       "      <td>10049</td>\n",
       "      <td>0</td>\n",
       "      <td>0</td>\n",
       "      <td>0</td>\n",
       "      <td>0</td>\n",
       "      <td>0</td>\n",
       "      <td>0</td>\n",
       "      <td>0</td>\n",
       "      <td>0</td>\n",
       "      <td>0</td>\n",
       "      <td>0</td>\n",
       "      <td>0</td>\n",
       "      <td>0</td>\n",
       "      <td>0</td>\n",
       "      <td>0</td>\n",
       "      <td>0</td>\n",
       "    </tr>\n",
       "    <tr>\n",
       "      <th>Flooding</th>\n",
       "      <td>3312</td>\n",
       "      <td>0</td>\n",
       "      <td>0</td>\n",
       "      <td>0</td>\n",
       "      <td>0</td>\n",
       "      <td>0</td>\n",
       "      <td>0</td>\n",
       "      <td>0</td>\n",
       "      <td>0</td>\n",
       "      <td>0</td>\n",
       "      <td>0</td>\n",
       "      <td>0</td>\n",
       "      <td>0</td>\n",
       "      <td>0</td>\n",
       "      <td>0</td>\n",
       "      <td>0</td>\n",
       "    </tr>\n",
       "    <tr>\n",
       "      <th>Grayhole</th>\n",
       "      <td>14596</td>\n",
       "      <td>0</td>\n",
       "      <td>0</td>\n",
       "      <td>0</td>\n",
       "      <td>0</td>\n",
       "      <td>0</td>\n",
       "      <td>0</td>\n",
       "      <td>0</td>\n",
       "      <td>0</td>\n",
       "      <td>0</td>\n",
       "      <td>0</td>\n",
       "      <td>0</td>\n",
       "      <td>0</td>\n",
       "      <td>0</td>\n",
       "      <td>0</td>\n",
       "      <td>0</td>\n",
       "    </tr>\n",
       "    <tr>\n",
       "      <th>Normal</th>\n",
       "      <td>5469</td>\n",
       "      <td>2621</td>\n",
       "      <td>1920</td>\n",
       "      <td>1573</td>\n",
       "      <td>926</td>\n",
       "      <td>672</td>\n",
       "      <td>464</td>\n",
       "      <td>530</td>\n",
       "      <td>286</td>\n",
       "      <td>167</td>\n",
       "      <td>208</td>\n",
       "      <td>252</td>\n",
       "      <td>137</td>\n",
       "      <td>189</td>\n",
       "      <td>114</td>\n",
       "      <td>263</td>\n",
       "    </tr>\n",
       "    <tr>\n",
       "      <th>TDMA</th>\n",
       "      <td>6234</td>\n",
       "      <td>121</td>\n",
       "      <td>100</td>\n",
       "      <td>62</td>\n",
       "      <td>36</td>\n",
       "      <td>45</td>\n",
       "      <td>23</td>\n",
       "      <td>12</td>\n",
       "      <td>2</td>\n",
       "      <td>2</td>\n",
       "      <td>1</td>\n",
       "      <td>0</td>\n",
       "      <td>0</td>\n",
       "      <td>0</td>\n",
       "      <td>0</td>\n",
       "      <td>0</td>\n",
       "    </tr>\n",
       "  </tbody>\n",
       "</table>\n",
       "</div>"
      ],
      "text/plain": [
       "send_code       0     1     2     3    4    5    6    7    8    9    10   11  \\\n",
       "Attack_type                                                                    \n",
       "Blackhole    10049     0     0     0    0    0    0    0    0    0    0    0   \n",
       "Flooding      3312     0     0     0    0    0    0    0    0    0    0    0   \n",
       "Grayhole     14596     0     0     0    0    0    0    0    0    0    0    0   \n",
       "Normal        5469  2621  1920  1573  926  672  464  530  286  167  208  252   \n",
       "TDMA          6234   121   100    62   36   45   23   12    2    2    1    0   \n",
       "\n",
       "send_code     12   13   14   15  \n",
       "Attack_type                      \n",
       "Blackhole      0    0    0    0  \n",
       "Flooding       0    0    0    0  \n",
       "Grayhole       0    0    0    0  \n",
       "Normal       137  189  114  263  \n",
       "TDMA           0    0    0    0  "
      ]
     },
     "execution_count": 14,
     "metadata": {},
     "output_type": "execute_result"
    }
   ],
   "source": [
    "p.crosstab(df.Attack_type,df.send_code)"
   ]
  },
  {
   "cell_type": "code",
   "execution_count": 15,
   "id": "9ebeb6db",
   "metadata": {},
   "outputs": [
    {
     "data": {
      "text/html": [
       "<div>\n",
       "<style scoped>\n",
       "    .dataframe tbody tr th:only-of-type {\n",
       "        vertical-align: middle;\n",
       "    }\n",
       "\n",
       "    .dataframe tbody tr th {\n",
       "        vertical-align: top;\n",
       "    }\n",
       "\n",
       "    .dataframe thead th {\n",
       "        text-align: right;\n",
       "    }\n",
       "</style>\n",
       "<table border=\"1\" class=\"dataframe\">\n",
       "  <thead>\n",
       "    <tr style=\"text-align: right;\">\n",
       "      <th></th>\n",
       "      <th>counts</th>\n",
       "      <th>freqs</th>\n",
       "    </tr>\n",
       "    <tr>\n",
       "      <th>categories</th>\n",
       "      <th></th>\n",
       "      <th></th>\n",
       "    </tr>\n",
       "  </thead>\n",
       "  <tbody>\n",
       "    <tr>\n",
       "      <th>0</th>\n",
       "      <td>15514</td>\n",
       "      <td>0.307903</td>\n",
       "    </tr>\n",
       "    <tr>\n",
       "      <th>1</th>\n",
       "      <td>34872</td>\n",
       "      <td>0.692097</td>\n",
       "    </tr>\n",
       "  </tbody>\n",
       "</table>\n",
       "</div>"
      ],
      "text/plain": [
       "            counts     freqs\n",
       "categories                  \n",
       "0            15514  0.307903\n",
       "1            34872  0.692097"
      ]
     },
     "execution_count": 15,
     "metadata": {},
     "output_type": "execute_result"
    }
   ],
   "source": [
    "p.Categorical(df['Is_CH']).describe()"
   ]
  },
  {
   "cell_type": "code",
   "execution_count": 16,
   "id": "617e8c0f",
   "metadata": {},
   "outputs": [
    {
     "data": {
      "text/html": [
       "<div>\n",
       "<style scoped>\n",
       "    .dataframe tbody tr th:only-of-type {\n",
       "        vertical-align: middle;\n",
       "    }\n",
       "\n",
       "    .dataframe tbody tr th {\n",
       "        vertical-align: top;\n",
       "    }\n",
       "\n",
       "    .dataframe thead th {\n",
       "        text-align: right;\n",
       "    }\n",
       "</style>\n",
       "<table border=\"1\" class=\"dataframe\">\n",
       "  <thead>\n",
       "    <tr style=\"text-align: right;\">\n",
       "      <th></th>\n",
       "      <th>counts</th>\n",
       "      <th>freqs</th>\n",
       "    </tr>\n",
       "    <tr>\n",
       "      <th>categories</th>\n",
       "      <th></th>\n",
       "      <th></th>\n",
       "    </tr>\n",
       "  </thead>\n",
       "  <tbody>\n",
       "    <tr>\n",
       "      <th>0</th>\n",
       "      <td>39660</td>\n",
       "      <td>0.787123</td>\n",
       "    </tr>\n",
       "    <tr>\n",
       "      <th>1</th>\n",
       "      <td>2742</td>\n",
       "      <td>0.054420</td>\n",
       "    </tr>\n",
       "    <tr>\n",
       "      <th>2</th>\n",
       "      <td>2020</td>\n",
       "      <td>0.040091</td>\n",
       "    </tr>\n",
       "    <tr>\n",
       "      <th>3</th>\n",
       "      <td>1635</td>\n",
       "      <td>0.032449</td>\n",
       "    </tr>\n",
       "    <tr>\n",
       "      <th>4</th>\n",
       "      <td>962</td>\n",
       "      <td>0.019093</td>\n",
       "    </tr>\n",
       "    <tr>\n",
       "      <th>5</th>\n",
       "      <td>717</td>\n",
       "      <td>0.014230</td>\n",
       "    </tr>\n",
       "    <tr>\n",
       "      <th>6</th>\n",
       "      <td>487</td>\n",
       "      <td>0.009665</td>\n",
       "    </tr>\n",
       "    <tr>\n",
       "      <th>7</th>\n",
       "      <td>542</td>\n",
       "      <td>0.010757</td>\n",
       "    </tr>\n",
       "    <tr>\n",
       "      <th>8</th>\n",
       "      <td>288</td>\n",
       "      <td>0.005716</td>\n",
       "    </tr>\n",
       "    <tr>\n",
       "      <th>9</th>\n",
       "      <td>169</td>\n",
       "      <td>0.003354</td>\n",
       "    </tr>\n",
       "    <tr>\n",
       "      <th>10</th>\n",
       "      <td>209</td>\n",
       "      <td>0.004148</td>\n",
       "    </tr>\n",
       "    <tr>\n",
       "      <th>11</th>\n",
       "      <td>252</td>\n",
       "      <td>0.005001</td>\n",
       "    </tr>\n",
       "    <tr>\n",
       "      <th>12</th>\n",
       "      <td>137</td>\n",
       "      <td>0.002719</td>\n",
       "    </tr>\n",
       "    <tr>\n",
       "      <th>13</th>\n",
       "      <td>189</td>\n",
       "      <td>0.003751</td>\n",
       "    </tr>\n",
       "    <tr>\n",
       "      <th>14</th>\n",
       "      <td>114</td>\n",
       "      <td>0.002263</td>\n",
       "    </tr>\n",
       "    <tr>\n",
       "      <th>15</th>\n",
       "      <td>263</td>\n",
       "      <td>0.005220</td>\n",
       "    </tr>\n",
       "  </tbody>\n",
       "</table>\n",
       "</div>"
      ],
      "text/plain": [
       "            counts     freqs\n",
       "categories                  \n",
       "0            39660  0.787123\n",
       "1             2742  0.054420\n",
       "2             2020  0.040091\n",
       "3             1635  0.032449\n",
       "4              962  0.019093\n",
       "5              717  0.014230\n",
       "6              487  0.009665\n",
       "7              542  0.010757\n",
       "8              288  0.005716\n",
       "9              169  0.003354\n",
       "10             209  0.004148\n",
       "11             252  0.005001\n",
       "12             137  0.002719\n",
       "13             189  0.003751\n",
       "14             114  0.002263\n",
       "15             263  0.005220"
      ]
     },
     "execution_count": 16,
     "metadata": {},
     "output_type": "execute_result"
    }
   ],
   "source": [
    "p.Categorical(df['send_code']).describe()"
   ]
  },
  {
   "cell_type": "code",
   "execution_count": 17,
   "id": "13b86973",
   "metadata": {},
   "outputs": [
    {
     "name": "stdout",
     "output_type": "stream",
     "text": [
      "Time:  [50, 53, 100, 103, 150, 153, 200, 203, 250, 253, 300, 303, 350, 353, 400, 403, 450, 453, 500, 503, 550, 553, 600, 603, 650, 653, 700, 703, 750, 753, 800, 803, 850, 853, 900, 903, 908, 950, 953, 963, 1000, 1003, 1050, 1053, 1061, 1100, 1103, 1107, 1150, 1153, 1180, 1194, 1200, 1203, 1250, 1253, 1263, 1275, 1300, 1303, 1350, 1353, 1374, 1400, 1403, 1450, 1453, 1500, 1503, 1550, 1553, 1600, 1603, 1650, 1653, 1700, 1703, 1750, 1753, 1800, 1803, 1850, 1853, 1900, 1903, 1950, 1953, 2000, 2003, 2050, 2053, 2100, 2103, 2150, 2153, 2200, 2203, 2250, 2253, 2300, 2303, 2350, 2353, 2400, 2403, 2450, 2453, 2500, 2503, 2550, 2553, 2600, 2603, 2650, 2653, 2700, 2703, 2750, 2753, 2800, 2803, 2850, 2853, 2900, 2903, 2950, 2953, 3000, 3003, 3050, 3053, 3100, 3103, 3150, 3153, 3200, 3203, 3250, 3253, 3300, 3303, 3350, 3353, 3400, 3403, 3450, 3453, 3500, 3503, 3550, 3553, 3600]\n"
     ]
    }
   ],
   "source": [
    "print(\"Time: \", sorted(df['Time'].unique()))"
   ]
  },
  {
   "cell_type": "code",
   "execution_count": 18,
   "id": "dfc3ef05",
   "metadata": {},
   "outputs": [
    {
     "name": "stdout",
     "output_type": "stream",
     "text": [
      "ADV_R:  [0, 1, 2, 3, 4, 5, 6, 7, 8, 9, 10, 11, 12, 13, 14, 15, 16, 17, 18, 19, 20, 21, 22, 23, 24, 25, 26, 27, 28]\n"
     ]
    }
   ],
   "source": [
    "print(\"ADV_R: \", sorted(df['ADV_R'].unique()))"
   ]
  },
  {
   "cell_type": "code",
   "execution_count": 19,
   "id": "731fa9e4",
   "metadata": {},
   "outputs": [
    {
     "data": {
      "text/plain": [
       "Normal       15791\n",
       "Grayhole     14596\n",
       "Blackhole    10049\n",
       "TDMA          6638\n",
       "Flooding      3312\n",
       "Name: Attack_type, dtype: int64"
      ]
     },
     "execution_count": 19,
     "metadata": {},
     "output_type": "execute_result"
    }
   ],
   "source": [
    "df['Attack_type'].value_counts()"
   ]
  },
  {
   "cell_type": "code",
   "execution_count": 32,
   "id": "922025cc",
   "metadata": {},
   "outputs": [
    {
     "data": {
      "text/plain": [
       "0        False\n",
       "1        False\n",
       "2        False\n",
       "3        False\n",
       "4        False\n",
       "         ...  \n",
       "50381    False\n",
       "50382    False\n",
       "50383    False\n",
       "50384    False\n",
       "50385    False\n",
       "Length: 50386, dtype: bool"
      ]
     },
     "execution_count": 32,
     "metadata": {},
     "output_type": "execute_result"
    }
   ],
   "source": [
    "df.duplicated()"
   ]
  },
  {
   "cell_type": "code",
   "execution_count": 33,
   "id": "235634ab",
   "metadata": {},
   "outputs": [
    {
     "data": {
      "text/plain": [
       "0"
      ]
     },
     "execution_count": 33,
     "metadata": {},
     "output_type": "execute_result"
    }
   ],
   "source": [
    "df.duplicated().sum()"
   ]
  },
  {
   "cell_type": "code",
   "execution_count": 25,
   "id": "e72445da",
   "metadata": {},
   "outputs": [
    {
     "data": {
      "text/plain": [
       "Index(['id', 'Time', 'Is_CH', 'who_CH', 'Dist_To_CH', 'ADV_S', 'ADV_R',\n",
       "       'JOIN_S', 'JOIN_R', 'SCH_S', 'SCH_R', 'Rank', 'DATA_S', 'DATA_R',\n",
       "       'Data_Sent_To_BS', 'dist_CH_To_BS', 'send_code', 'Expaned_Energy',\n",
       "       'Attack_type'],\n",
       "      dtype='object')"
      ]
     },
     "execution_count": 25,
     "metadata": {},
     "output_type": "execute_result"
    }
   ],
   "source": [
    "df.columns"
   ]
  },
  {
   "cell_type": "code",
   "execution_count": 26,
   "id": "ccb2bc98",
   "metadata": {
    "scrolled": true
   },
   "outputs": [
    {
     "name": "stdout",
     "output_type": "stream",
     "text": [
      "Minimum value of Dist_To_CH is: 0.0\n",
      "Maximum value of Dist_To_CH is: 214.27462000000003\n"
     ]
    }
   ],
   "source": [
    "print(\"Minimum value of Dist_To_CH is:\", df.Dist_To_CH.min())\n",
    "print(\"Maximum value of Dist_To_CH is:\", df.Dist_To_CH.max())"
   ]
  },
  {
   "cell_type": "code",
   "execution_count": 27,
   "id": "b4eb0374",
   "metadata": {},
   "outputs": [
    {
     "name": "stdout",
     "output_type": "stream",
     "text": [
      "<class 'pandas.core.frame.DataFrame'>\n",
      "Int64Index: 50386 entries, 0 to 50385\n",
      "Data columns (total 19 columns):\n",
      " #   Column           Non-Null Count  Dtype  \n",
      "---  ------           --------------  -----  \n",
      " 0   id               50386 non-null  int64  \n",
      " 1   Time             50386 non-null  int64  \n",
      " 2   Is_CH            50386 non-null  int64  \n",
      " 3   who_CH           50386 non-null  int64  \n",
      " 4   Dist_To_CH       50386 non-null  float64\n",
      " 5   ADV_S            50386 non-null  int64  \n",
      " 6   ADV_R            50386 non-null  int64  \n",
      " 7   JOIN_S           50386 non-null  int64  \n",
      " 8   JOIN_R           50386 non-null  int64  \n",
      " 9   SCH_S            50386 non-null  int64  \n",
      " 10  SCH_R            50386 non-null  int64  \n",
      " 11  Rank             50386 non-null  int64  \n",
      " 12  DATA_S           50386 non-null  int64  \n",
      " 13  DATA_R           50386 non-null  int64  \n",
      " 14  Data_Sent_To_BS  50386 non-null  int64  \n",
      " 15  dist_CH_To_BS    50386 non-null  float64\n",
      " 16  send_code        50386 non-null  int64  \n",
      " 17  Expaned_Energy   50386 non-null  float64\n",
      " 18  Attack_type      50386 non-null  object \n",
      "dtypes: float64(3), int64(15), object(1)\n",
      "memory usage: 7.7+ MB\n"
     ]
    }
   ],
   "source": [
    "df.info()"
   ]
  },
  {
   "cell_type": "code",
   "execution_count": 28,
   "id": "f4882766",
   "metadata": {},
   "outputs": [
    {
     "data": {
      "text/plain": [
       "array(['Normal', 'Flooding', 'TDMA', 'Grayhole', 'Blackhole'],\n",
       "      dtype=object)"
      ]
     },
     "execution_count": 28,
     "metadata": {},
     "output_type": "execute_result"
    }
   ],
   "source": [
    "df['Attack_type'].unique()"
   ]
  },
  {
   "cell_type": "code",
   "execution_count": 29,
   "id": "7988efa3",
   "metadata": {},
   "outputs": [],
   "source": [
    "from sklearn.preprocessing import LabelEncoder\n",
    "var_mod = ['Attack_type']\n",
    "le = LabelEncoder()\n",
    "for i in var_mod:\n",
    "    df[i] = le.fit_transform(df[i]).astype(int)"
   ]
  },
  {
   "cell_type": "code",
   "execution_count": 30,
   "id": "55267438",
   "metadata": {},
   "outputs": [
    {
     "data": {
      "text/plain": [
       "array([3, 1, 4, 2, 0])"
      ]
     },
     "execution_count": 30,
     "metadata": {},
     "output_type": "execute_result"
    }
   ],
   "source": [
    "df['Attack_type'].unique()"
   ]
  },
  {
   "cell_type": "code",
   "execution_count": 31,
   "id": "9d9fe5c0",
   "metadata": {},
   "outputs": [
    {
     "data": {
      "text/html": [
       "<div>\n",
       "<style scoped>\n",
       "    .dataframe tbody tr th:only-of-type {\n",
       "        vertical-align: middle;\n",
       "    }\n",
       "\n",
       "    .dataframe tbody tr th {\n",
       "        vertical-align: top;\n",
       "    }\n",
       "\n",
       "    .dataframe thead th {\n",
       "        text-align: right;\n",
       "    }\n",
       "</style>\n",
       "<table border=\"1\" class=\"dataframe\">\n",
       "  <thead>\n",
       "    <tr style=\"text-align: right;\">\n",
       "      <th></th>\n",
       "      <th>id</th>\n",
       "      <th>Time</th>\n",
       "      <th>Is_CH</th>\n",
       "      <th>who_CH</th>\n",
       "      <th>Dist_To_CH</th>\n",
       "      <th>ADV_S</th>\n",
       "      <th>ADV_R</th>\n",
       "      <th>JOIN_S</th>\n",
       "      <th>JOIN_R</th>\n",
       "      <th>SCH_S</th>\n",
       "      <th>SCH_R</th>\n",
       "      <th>Rank</th>\n",
       "      <th>DATA_S</th>\n",
       "      <th>DATA_R</th>\n",
       "      <th>Data_Sent_To_BS</th>\n",
       "      <th>dist_CH_To_BS</th>\n",
       "      <th>send_code</th>\n",
       "      <th>Expaned_Energy</th>\n",
       "      <th>Attack_type</th>\n",
       "    </tr>\n",
       "  </thead>\n",
       "  <tbody>\n",
       "    <tr>\n",
       "      <th>50381</th>\n",
       "      <td>373986</td>\n",
       "      <td>703</td>\n",
       "      <td>1</td>\n",
       "      <td>114021</td>\n",
       "      <td>0.0</td>\n",
       "      <td>1</td>\n",
       "      <td>6</td>\n",
       "      <td>0</td>\n",
       "      <td>26</td>\n",
       "      <td>1</td>\n",
       "      <td>0</td>\n",
       "      <td>0</td>\n",
       "      <td>0</td>\n",
       "      <td>1196</td>\n",
       "      <td>0</td>\n",
       "      <td>0.0</td>\n",
       "      <td>0</td>\n",
       "      <td>0.00720</td>\n",
       "      <td>0</td>\n",
       "    </tr>\n",
       "    <tr>\n",
       "      <th>50382</th>\n",
       "      <td>374130</td>\n",
       "      <td>753</td>\n",
       "      <td>1</td>\n",
       "      <td>115065</td>\n",
       "      <td>0.0</td>\n",
       "      <td>1</td>\n",
       "      <td>4</td>\n",
       "      <td>0</td>\n",
       "      <td>55</td>\n",
       "      <td>1</td>\n",
       "      <td>0</td>\n",
       "      <td>0</td>\n",
       "      <td>0</td>\n",
       "      <td>1320</td>\n",
       "      <td>0</td>\n",
       "      <td>0.0</td>\n",
       "      <td>0</td>\n",
       "      <td>0.00722</td>\n",
       "      <td>0</td>\n",
       "    </tr>\n",
       "    <tr>\n",
       "      <th>50383</th>\n",
       "      <td>374270</td>\n",
       "      <td>853</td>\n",
       "      <td>1</td>\n",
       "      <td>117005</td>\n",
       "      <td>0.0</td>\n",
       "      <td>1</td>\n",
       "      <td>10</td>\n",
       "      <td>0</td>\n",
       "      <td>14</td>\n",
       "      <td>1</td>\n",
       "      <td>0</td>\n",
       "      <td>0</td>\n",
       "      <td>0</td>\n",
       "      <td>745</td>\n",
       "      <td>0</td>\n",
       "      <td>0.0</td>\n",
       "      <td>0</td>\n",
       "      <td>0.00721</td>\n",
       "      <td>0</td>\n",
       "    </tr>\n",
       "    <tr>\n",
       "      <th>50384</th>\n",
       "      <td>374342</td>\n",
       "      <td>853</td>\n",
       "      <td>1</td>\n",
       "      <td>117078</td>\n",
       "      <td>0.0</td>\n",
       "      <td>1</td>\n",
       "      <td>10</td>\n",
       "      <td>0</td>\n",
       "      <td>11</td>\n",
       "      <td>1</td>\n",
       "      <td>0</td>\n",
       "      <td>0</td>\n",
       "      <td>0</td>\n",
       "      <td>921</td>\n",
       "      <td>0</td>\n",
       "      <td>0.0</td>\n",
       "      <td>0</td>\n",
       "      <td>0.00726</td>\n",
       "      <td>0</td>\n",
       "    </tr>\n",
       "    <tr>\n",
       "      <th>50385</th>\n",
       "      <td>374523</td>\n",
       "      <td>953</td>\n",
       "      <td>1</td>\n",
       "      <td>119061</td>\n",
       "      <td>0.0</td>\n",
       "      <td>1</td>\n",
       "      <td>6</td>\n",
       "      <td>0</td>\n",
       "      <td>31</td>\n",
       "      <td>1</td>\n",
       "      <td>0</td>\n",
       "      <td>0</td>\n",
       "      <td>0</td>\n",
       "      <td>1240</td>\n",
       "      <td>0</td>\n",
       "      <td>0.0</td>\n",
       "      <td>0</td>\n",
       "      <td>0.00722</td>\n",
       "      <td>0</td>\n",
       "    </tr>\n",
       "  </tbody>\n",
       "</table>\n",
       "</div>"
      ],
      "text/plain": [
       "           id  Time  Is_CH  who_CH  Dist_To_CH  ADV_S  ADV_R  JOIN_S  JOIN_R  \\\n",
       "50381  373986   703      1  114021         0.0      1      6       0      26   \n",
       "50382  374130   753      1  115065         0.0      1      4       0      55   \n",
       "50383  374270   853      1  117005         0.0      1     10       0      14   \n",
       "50384  374342   853      1  117078         0.0      1     10       0      11   \n",
       "50385  374523   953      1  119061         0.0      1      6       0      31   \n",
       "\n",
       "       SCH_S  SCH_R  Rank  DATA_S  DATA_R  Data_Sent_To_BS  dist_CH_To_BS  \\\n",
       "50381      1      0     0       0    1196                0            0.0   \n",
       "50382      1      0     0       0    1320                0            0.0   \n",
       "50383      1      0     0       0     745                0            0.0   \n",
       "50384      1      0     0       0     921                0            0.0   \n",
       "50385      1      0     0       0    1240                0            0.0   \n",
       "\n",
       "       send_code  Expaned_Energy  Attack_type  \n",
       "50381          0         0.00720            0  \n",
       "50382          0         0.00722            0  \n",
       "50383          0         0.00721            0  \n",
       "50384          0         0.00726            0  \n",
       "50385          0         0.00722            0  "
      ]
     },
     "execution_count": 31,
     "metadata": {},
     "output_type": "execute_result"
    }
   ],
   "source": [
    "df.tail()"
   ]
  },
  {
   "cell_type": "code",
   "execution_count": null,
   "id": "6beb5aef",
   "metadata": {},
   "outputs": [],
   "source": []
  },
  {
   "cell_type": "code",
   "execution_count": null,
   "id": "3d8bf021",
   "metadata": {},
   "outputs": [],
   "source": []
  },
  {
   "cell_type": "code",
   "execution_count": null,
   "id": "7aeb3c26",
   "metadata": {},
   "outputs": [],
   "source": []
  }
 ],
 "metadata": {
  "kernelspec": {
   "display_name": "Python 3 (ipykernel)",
   "language": "python",
   "name": "python3"
  },
  "language_info": {
   "codemirror_mode": {
    "name": "ipython",
    "version": 3
   },
   "file_extension": ".py",
   "mimetype": "text/x-python",
   "name": "python",
   "nbconvert_exporter": "python",
   "pygments_lexer": "ipython3",
   "version": "3.9.13"
  }
 },
 "nbformat": 4,
 "nbformat_minor": 5
}
